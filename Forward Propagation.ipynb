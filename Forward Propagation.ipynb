{
 "cells": [
  {
   "cell_type": "markdown",
   "metadata": {},
   "source": [
    "## Forward Propagation"
   ]
  },
  {
   "cell_type": "markdown",
   "metadata": {},
   "source": [
    "![Imagen 1](Images/imag001.png?raw=true)"
   ]
  },
  {
   "cell_type": "markdown",
   "metadata": {},
   "source": [
    "Neural Network have 1 input Layer, 1 hidden Layer, and 1 output Layer"
   ]
  },
  {
   "cell_type": "code",
   "execution_count": 19,
   "metadata": {
    "collapsed": false
   },
   "outputs": [],
   "source": [
    "import numpy as np\n",
    "# X = (hours sleeping, hours studying), y = Score on test\n",
    "X = np.array([[3, 5], [5, 1], [10, 2]], dtype=float)\n",
    "y = np.array([[75], [82], [93]], dtype=float)\n",
    "\n",
    "# Scale data\n",
    "X = X/ np.amax(X, axis=0)\n",
    "y = y/100"
   ]
  },
  {
   "cell_type": "code",
   "execution_count": 20,
   "metadata": {
    "collapsed": false
   },
   "outputs": [
    {
     "name": "stdout",
     "output_type": "stream",
     "text": [
      "[[ 0.3  1. ]\n",
      " [ 0.5  0.2]\n",
      " [ 1.   0.4]]\n",
      "[[ 0.75]\n",
      " [ 0.82]\n",
      " [ 0.93]]\n"
     ]
    }
   ],
   "source": [
    "print(X)\n",
    "print(y)"
   ]
  },
  {
   "cell_type": "markdown",
   "metadata": {},
   "source": [
    "### Construction of NeuralNetwork"
   ]
  },
  {
   "cell_type": "code",
   "execution_count": 21,
   "metadata": {
    "collapsed": false
   },
   "outputs": [],
   "source": [
    "class NeuralNetwork(object):\n",
    "    def __init__(self):\n",
    "        # Define Hyperparameters\n",
    "        self.inputLayerSize = 2\n",
    "        self.hiddenLayerSize = 3\n",
    "        self.outputLayerSize = 1\n",
    "        \n",
    "        # Weights (parameters)\n",
    "        self.W1 = np.random.randn(self.inputLayerSize, self.hiddenLayerSize)\n",
    "        self.W2 = np.random.randn(self.hiddenLayerSize, self.outputLayerSize)\n",
    "        \n",
    "    def forwardPropagation(self, X):\n",
    "        # Propagate inputs though network\n",
    "        self.z2 = np.dot(X, self.W1)\n",
    "        self.a2 = self.sigmoid(self.z2)\n",
    "        self.z3 = np.dot(self.a2, self.W2)\n",
    "        yHat = self.sigmoid(self.z3)\n",
    "        return yHat\n",
    "    \n",
    "    def sigmoid(self, z):\n",
    "        # Apply sigmoid activation function to scalar, vector, or Matrix\n",
    "        return 1/(1+np.exp(-z))"
   ]
  },
  {
   "cell_type": "markdown",
   "metadata": {},
   "source": [
    "![Imagen 2](Images/imag003.png?raw=true)"
   ]
  },
  {
   "cell_type": "markdown",
   "metadata": {},
   "source": [
    "#### Architecture of Neural Network"
   ]
  },
  {
   "cell_type": "markdown",
   "metadata": {},
   "source": [
    "![Imagen 3](Images/imag002.png?raw=true)"
   ]
  },
  {
   "cell_type": "markdown",
   "metadata": {},
   "source": [
    "#### Calculate from Input to Hidden Layer."
   ]
  },
  {
   "cell_type": "markdown",
   "metadata": {},
   "source": [
    "![Imagen 1](Images/imag004.png?raw=true)"
   ]
  },
  {
   "cell_type": "code",
   "execution_count": 22,
   "metadata": {
    "collapsed": false
   },
   "outputs": [
    {
     "data": {
      "image/png": "[encoded data removed]",
      "text/plain": [
       "<matplotlib.figure.Figure at 0x7f013823ab70>"
      ]
     },
     "metadata": {},
     "output_type": "display_data"
    }
   ],
   "source": [
    "import matplotlib.pyplot as plt\n",
    "NN = NeuralNetwork()\n",
    "testInput = np.arange(-6, 6, 0.01)\n",
    "plt.plot(testInput, NN.sigmoid(testInput), linewidth=2)\n",
    "plt.grid(1)\n",
    "plt.show()"
   ]
  },
  {
   "cell_type": "code",
   "execution_count": 23,
   "metadata": {
    "collapsed": false
   },
   "outputs": [
    {
     "data": {
      "text/plain": [
       "0.7310585786300049"
      ]
     },
     "execution_count": 23,
     "metadata": {},
     "output_type": "execute_result"
    }
   ],
   "source": [
    "NN.sigmoid(1)"
   ]
  },
  {
   "cell_type": "code",
   "execution_count": 24,
   "metadata": {
    "collapsed": false
   },
   "outputs": [
    {
     "data": {
      "text/plain": [
       "array([ 0.26894142,  0.5       ,  0.73105858])"
      ]
     },
     "execution_count": 24,
     "metadata": {},
     "output_type": "execute_result"
    }
   ],
   "source": [
    "NN.sigmoid(np.array([-1, 0, 1]))"
   ]
  },
  {
   "cell_type": "code",
   "execution_count": 25,
   "metadata": {
    "collapsed": false
   },
   "outputs": [
    {
     "data": {
      "text/plain": [
       "array([[ 0.26710084,  0.12445003,  0.40617971],\n",
       "       [ 0.534376  ,  0.64288305,  0.24772018],\n",
       "       [ 0.89003903,  0.24228   ,  0.47115939]])"
      ]
     },
     "execution_count": 25,
     "metadata": {},
     "output_type": "execute_result"
    }
   ],
   "source": [
    "NN.sigmoid(np.random.randn(3, 3))"
   ]
  },
  {
   "cell_type": "markdown",
   "metadata": {},
   "source": [
    "![Imagen 5](Images/imag005.png?raw=true)"
   ]
  },
  {
   "cell_type": "markdown",
   "metadata": {
    "collapsed": true
   },
   "source": [
    "### Try our Neural Network"
   ]
  },
  {
   "cell_type": "code",
   "execution_count": 61,
   "metadata": {
    "collapsed": false
   },
   "outputs": [
    {
     "data": {
      "text/plain": [
       "array([[ 0.3,  1. ],\n",
       "       [ 0.5,  0.2],\n",
       "       [ 1. ,  0.4]])"
      ]
     },
     "execution_count": 61,
     "metadata": {},
     "output_type": "execute_result"
    }
   ],
   "source": [
    "X"
   ]
  },
  {
   "cell_type": "code",
   "execution_count": 62,
   "metadata": {
    "collapsed": false
   },
   "outputs": [
    {
     "data": {
      "text/plain": [
       "array([[ 0.26045552],\n",
       "       [ 0.24018001],\n",
       "       [ 0.21630116]])"
      ]
     },
     "execution_count": 62,
     "metadata": {},
     "output_type": "execute_result"
    }
   ],
   "source": [
    "NN = NeuralNetwork()\n",
    "yHat = NN.forwardPropagation(X)\n",
    "yHat"
   ]
  },
  {
   "cell_type": "code",
   "execution_count": 63,
   "metadata": {
    "collapsed": false
   },
   "outputs": [
    {
     "data": {
      "text/plain": [
       "array([[ 0.75],\n",
       "       [ 0.82],\n",
       "       [ 0.93]])"
      ]
     },
     "execution_count": 63,
     "metadata": {},
     "output_type": "execute_result"
    }
   ],
   "source": [
    "y"
   ]
  },
  {
   "cell_type": "code",
   "execution_count": 78,
   "metadata": {
    "collapsed": false
   },
   "outputs": [
    {
     "data": {
      "text/plain": [
       "0.54260552692020303"
      ]
     },
     "execution_count": 78,
     "metadata": {},
     "output_type": "execute_result"
    }
   ],
   "source": [
    "error = 0.5 * np.sum((y-yHat)**2)\n",
    "error"
   ]
  },
  {
   "cell_type": "markdown",
   "metadata": {},
   "source": [
    "Note that out estimes (yHat) looks quite terrible when compared with our target (y). That is because we have not yet trained out network, that is what we will work."
   ]
  },
  {
   "cell_type": "markdown",
   "metadata": {},
   "source": [
    "We are going to plot some bars to compare y and yHat"
   ]
  },
  {
   "cell_type": "code",
   "execution_count": 76,
   "metadata": {
    "collapsed": false
   },
   "outputs": [
    {
     "data": {
      "image/png": "[encoded data removed]",
      "text/plain": [
       "<matplotlib.figure.Figure at 0x7f0135eeed30>"
      ]
     },
     "metadata": {},
     "output_type": "display_data"
    }
   ],
   "source": [
    "import matplotlib.pyplot as plt\n",
    "plt.bar([0, 1, 2], y, width=0.35, alpha=0.8)\n",
    "plt.bar([0.35, 1.35, 2.35], yHat, width=0.35, color='r', alpha=0.8)\n",
    "plt.grid(1)\n",
    "plt.legend(['y', 'yHat'])\n",
    "plt.show()"
   ]
  },
  {
   "cell_type": "markdown",
   "metadata": {},
   "source": [
    "## Cost Function $J$"
   ]
  },
  {
   "cell_type": "markdown",
   "metadata": {},
   "source": [
    "To improve our model, we need to find a way to quantify exactly how wrong out predictions are.\n",
    "\n",
    "One way of doing it is to use a **cost function**. \n",
    "\n",
    "We will use sum of square errors to compute an overall cost and we will try to minimize it. Actually, **training a network means minimizing a cost function**."
   ]
  },
  {
   "cell_type": "markdown",
   "metadata": {},
   "source": [
    "![Imagen 6](Images/imag006.png?raw=true)"
   ]
  },
  {
   "cell_type": "markdown",
   "metadata": {},
   "source": [
    "The cost is a function depends of two parameters: out **sample data** and the **weights**.\n",
    "\n",
    "We will try to minimze out cost by changing the **weights**."
   ]
  },
  {
   "cell_type": "markdown",
   "metadata": {},
   "source": [
    "![Imagen 7](Images/imag007.png?raw=true)"
   ]
  },
  {
   "cell_type": "markdown",
   "metadata": {},
   "source": [
    "We are going to make out cost ($J$) as small as possible with a optimal combination of the weights."
   ]
  },
  {
   "cell_type": "markdown",
   "metadata": {},
   "source": [
    "## Gradient Descent"
   ]
  },
  {
   "cell_type": "markdown",
   "metadata": {},
   "source": [
    "### 1. Batch Gradient Descent Algorithm"
   ]
  },
  {
   "cell_type": "markdown",
   "metadata": {},
   "source": [
    "Gradient descent is an optimization algorithm that works by efficiently search the parameter space, intercept($\\theta_0$) and slope($\\theta_1$) for linear regression, according to the following rule:"
   ]
  },
  {
   "cell_type": "markdown",
   "metadata": {},
   "source": [
    "![Imagen 8](Images/imag008.png?raw=true)"
   ]
  },
  {
   "cell_type": "markdown",
   "metadata": {},
   "source": [
    "The $J(\\theta)$ is knows as the cost funcftion and $\\alpha$ is the learning rate, a free parameter. We are going to use least square cost function defined as following. "
   ]
  },
  {
   "cell_type": "markdown",
   "metadata": {},
   "source": [
    "> ## $J(\\theta) =  \\frac{1}{2m} \\sum_{i=1}^{m} (h_{\\theta}(x^{(i)}) - y^{(i)})^2$"
   ]
  },
  {
   "cell_type": "markdown",
   "metadata": {},
   "source": [
    "where *m* is the total number of training examples and $h_{\\theta}(x^{(i)})$ is the hypothesis function defined like this:"
   ]
  },
  {
   "cell_type": "markdown",
   "metadata": {},
   "source": [
    "> ## $h_{\\theta}(x^{(i)}) = \\theta_{0} + \\theta_{1}x^{(i)}$"
   ]
  },
  {
   "cell_type": "markdown",
   "metadata": {},
   "source": [
    "where the super script (i) is used to denote the $i^{th}$ sample (we will sabe subscripts for the index to a feature when we deal with multi-features).\n",
    "\n",
    "We need derivates for both $\\theta_{0}$ and $\\theta_{1}$:"
   ]
  },
  {
   "cell_type": "markdown",
   "metadata": {},
   "source": [
    "Derivative by $\\theta_{0}$\n",
    "> ### $\\frac{\\partial}{\\partial\\theta_{0}} J(\\theta_{0},\\theta_{1}) = \\frac{1}{m} \\sum_{i=1}^{m} (h_{\\theta}(x^{(i)}) - y^{(i)}) = \\frac{1}{m} \\sum_{i=1}^{m} (\\theta_{0}+\\theta_{1}x^{(i)}-y^{(i)})$ "
   ]
  },
  {
   "cell_type": "markdown",
   "metadata": {},
   "source": [
    "Derivative by $\\theta_{1}$\n",
    ">### $\\frac{\\partial}{\\partial\\theta_{1}} J(\\theta_{0},\\theta_{1}) = \\frac{1}{m} \\sum_{i=1}^{m} (h_{\\theta}(x^{(i)}) - y^{(i)}) = \\frac{1}{m}\\sum_{i=1}^{m} (\\theta_{0}+\\theta_{1}x^{(i)}-y^{(i)})x^{(i)}$"
   ]
  },
  {
   "cell_type": "code",
   "execution_count": 34,
   "metadata": {
    "collapsed": false
   },
   "outputs": [
    {
     "name": "stdout",
     "output_type": "stream",
     "text": [
      "x.shape = (100, 1) y.shape = (100,)\n",
      "Converged, iterations:  643 !!!\n",
      "theta0 = [-2.8196842], theta1 = [ 43.13927567]\n",
      "intercept = -2.84963639461, slope = 43.2042438802\n"
     ]
    },
    {
     "data": {
      "image/png": "[encoded data removed]",
      "text/plain": [
       "<matplotlib.figure.Figure at 0x7f500b4f7438>"
      ]
     },
     "metadata": {},
     "output_type": "display_data"
    },
    {
     "name": "stdout",
     "output_type": "stream",
     "text": [
      "Done!\n"
     ]
    }
   ],
   "source": [
    "# CODE A, NATIVE PYTHON\n",
    "\n",
    "import numpy as np\n",
    "import random\n",
    "import sklearn\n",
    "from sklearn.datasets.samples_generator import make_regression\n",
    "import pylab\n",
    "from scipy import stats\n",
    "\n",
    "def gradient_descent(alpha, x, y, eps=0.0001, max_iter=10000):\n",
    "    converged = False\n",
    "    iter = 0\n",
    "    m = x.shape[0] # number of samples\n",
    "    \n",
    "    # initial theta\n",
    "    t0 = np.random.random(x.shape[1])\n",
    "    t1 = np.random.random(x.shape[1])\n",
    "    \n",
    "    # total error, J(theta)\n",
    "    J = sum([(t0 + t1*x[i] - y[i]) ** 2 for i in range(m)])\n",
    "    \n",
    "    # Iterative Loop\n",
    "    while not converged:\n",
    "        # for each training sample, compute the gradient (d/d_theta j(theta))\n",
    "        grad0 = 1.0/m * sum([(t0 + t1*x[i] - y[i]) for i in range(m)]) \n",
    "        grad1 = 1.0/m * sum([(t0 + t1*x[i] - y[i])*x[i] for i in range(m)])\n",
    "        \n",
    "        # update the theta_temp\n",
    "        temp0 = t0 - alpha * grad0\n",
    "        temp1 = t1 - alpha * grad1\n",
    "        \n",
    "        # update theta\n",
    "        t0 = temp0\n",
    "        t1 = temp1\n",
    "        \n",
    "        # mean squared error\n",
    "        e = sum( [ (t0 + t1*x[i] - y[i]) ** 2 for i in range(m) ] )\n",
    "        \n",
    "        if abs(J - e) <= eps:\n",
    "            print('Converged, iterations: ', iter, '!!!')\n",
    "            converged = True\n",
    "            \n",
    "        J = e # update error\n",
    "        iter += 1 # update iter\n",
    "        \n",
    "        if iter == max_iter:\n",
    "            print('Max iteractions exceeded!')\n",
    "            converged = True \n",
    "        \n",
    "    return t0, t1\n",
    "\n",
    "if __name__ == '__main__':\n",
    "    \n",
    "    x, y = make_regression(n_samples=100, n_features=1, n_informative=1,\n",
    "                          random_state=0, noise=35)\n",
    "    print('x.shape = %s y.shape = %s' %(x.shape, y.shape))\n",
    "    \n",
    "    alpha = 0.01 # Learning rate\n",
    "    eps = 0.01 # convergence criteria\n",
    "    \n",
    "    # call gradient descent, and get intercept(=theta0) and slope(=theta1)\n",
    "    theta0, theta1 = gradient_descent(alpha, x, y, eps, max_iter=1000)\n",
    "    print('theta0 = %s, theta1 = %s' %(theta0, theta1))\n",
    "    \n",
    "    #check with scipy linear regression\n",
    "    slope, intercepts, r_value, p_value, slope_std_error = stats.linregress(x[:, 0], y)\n",
    "    print('intercept = %s, slope = %s' %(intercepts, slope))\n",
    "    \n",
    "    # plot\n",
    "    for i in range(x.shape[0]):\n",
    "        y_predict = theta0 + theta1*x\n",
    "        \n",
    "    pylab.plot(x, y, 'o')\n",
    "    pylab.plot(x, y_predict, 'k-')\n",
    "    pylab.show()\n",
    "    print('Done!')                                  "
   ]
  },
  {
   "cell_type": "markdown",
   "metadata": {
    "collapsed": true
   },
   "source": [
    "We have made an temporal variables to save slope and intercepts updated."
   ]
  },
  {
   "cell_type": "markdown",
   "metadata": {},
   "source": [
    "> ### $temp0 := \\theta_{0} - \\alpha \\frac{\\partial}{\\partial\\theta_{0}} J(\\theta_{0}, \\theta_{1})$\n",
    "\n",
    "> ### $temp1 := \\theta_{1} - \\alpha \\frac{\\partial}{\\partial\\theta_{1}} J(\\theta_{0}, \\theta_{1})$\n",
    "\n",
    "> ### $\\theta_{0} := temp0$\n",
    "\n",
    "> ### $\\theta_{1} := temp1$"
   ]
  },
  {
   "cell_type": "code",
   "execution_count": 1,
   "metadata": {
    "collapsed": false
   },
   "outputs": [
    {
     "name": "stdout",
     "output_type": "stream",
     "text": [
      "iter 0 | J: 1604.873\n",
      "iter 1 | J: 1586.636\n",
      "iter 2 | J: 1568.768\n",
      "iter 3 | J: 1551.261\n",
      "iter 4 | J: 1534.107\n",
      "iter 5 | J: 1517.301\n",
      "iter 6 | J: 1500.833\n",
      "iter 7 | J: 1484.699\n",
      "iter 8 | J: 1468.890\n",
      "iter 9 | J: 1453.401\n",
      "iter 10 | J: 1438.224\n",
      "iter 11 | J: 1423.354\n",
      "iter 12 | J: 1408.785\n",
      "iter 13 | J: 1394.509\n",
      "iter 14 | J: 1380.522\n",
      "iter 15 | J: 1366.817\n",
      "iter 16 | J: 1353.389\n",
      "iter 17 | J: 1340.232\n",
      "iter 18 | J: 1327.341\n",
      "iter 19 | J: 1314.710\n",
      "iter 20 | J: 1302.334\n",
      "iter 21 | J: 1290.207\n",
      "iter 22 | J: 1278.325\n",
      "iter 23 | J: 1266.683\n",
      "iter 24 | J: 1255.276\n",
      "iter 25 | J: 1244.100\n",
      "iter 26 | J: 1233.148\n",
      "iter 27 | J: 1222.418\n",
      "iter 28 | J: 1211.904\n",
      "iter 29 | J: 1201.602\n",
      "iter 30 | J: 1191.507\n",
      "iter 31 | J: 1181.617\n",
      "iter 32 | J: 1171.926\n",
      "iter 33 | J: 1162.430\n",
      "iter 34 | J: 1153.126\n",
      "iter 35 | J: 1144.009\n",
      "iter 36 | J: 1135.076\n",
      "iter 37 | J: 1126.323\n",
      "iter 38 | J: 1117.747\n",
      "iter 39 | J: 1109.343\n",
      "iter 40 | J: 1101.109\n",
      "iter 41 | J: 1093.041\n",
      "iter 42 | J: 1085.135\n",
      "iter 43 | J: 1077.389\n",
      "iter 44 | J: 1069.799\n",
      "iter 45 | J: 1062.361\n",
      "iter 46 | J: 1055.074\n",
      "iter 47 | J: 1047.933\n",
      "iter 48 | J: 1040.936\n",
      "iter 49 | J: 1034.080\n",
      "iter 50 | J: 1027.363\n",
      "iter 51 | J: 1020.780\n",
      "iter 52 | J: 1014.330\n",
      "iter 53 | J: 1008.010\n",
      "iter 54 | J: 1001.817\n",
      "iter 55 | J: 995.749\n",
      "iter 56 | J: 989.803\n",
      "iter 57 | J: 983.976\n",
      "iter 58 | J: 978.267\n",
      "iter 59 | J: 972.673\n",
      "iter 60 | J: 967.191\n",
      "iter 61 | J: 961.820\n",
      "iter 62 | J: 956.557\n",
      "iter 63 | J: 951.399\n",
      "iter 64 | J: 946.346\n",
      "iter 65 | J: 941.394\n",
      "iter 66 | J: 936.542\n",
      "iter 67 | J: 931.787\n",
      "iter 68 | J: 927.128\n",
      "iter 69 | J: 922.563\n",
      "iter 70 | J: 918.089\n",
      "iter 71 | J: 913.705\n",
      "iter 72 | J: 909.410\n",
      "iter 73 | J: 905.201\n",
      "iter 74 | J: 901.076\n",
      "iter 75 | J: 897.035\n",
      "iter 76 | J: 893.075\n",
      "iter 77 | J: 889.194\n",
      "iter 78 | J: 885.391\n",
      "iter 79 | J: 881.665\n",
      "iter 80 | J: 878.013\n",
      "iter 81 | J: 874.435\n",
      "iter 82 | J: 870.929\n",
      "iter 83 | J: 867.494\n",
      "iter 84 | J: 864.127\n",
      "iter 85 | J: 860.828\n",
      "iter 86 | J: 857.595\n",
      "iter 87 | J: 854.427\n",
      "iter 88 | J: 851.323\n",
      "iter 89 | J: 848.281\n",
      "iter 90 | J: 845.300\n",
      "iter 91 | J: 842.379\n",
      "iter 92 | J: 839.517\n",
      "iter 93 | J: 836.712\n",
      "iter 94 | J: 833.964\n",
      "iter 95 | J: 831.270\n",
      "iter 96 | J: 828.631\n",
      "iter 97 | J: 826.045\n",
      "iter 98 | J: 823.510\n",
      "iter 99 | J: 821.027\n",
      "iter 100 | J: 818.593\n",
      "iter 101 | J: 816.208\n",
      "iter 102 | J: 813.871\n",
      "iter 103 | J: 811.581\n",
      "iter 104 | J: 809.337\n",
      "iter 105 | J: 807.138\n",
      "iter 106 | J: 804.983\n",
      "iter 107 | J: 802.871\n",
      "iter 108 | J: 800.801\n",
      "iter 109 | J: 798.773\n",
      "iter 110 | J: 796.786\n",
      "iter 111 | J: 794.838\n",
      "iter 112 | J: 792.930\n",
      "iter 113 | J: 791.060\n",
      "iter 114 | J: 789.227\n",
      "iter 115 | J: 787.431\n",
      "iter 116 | J: 785.671\n",
      "iter 117 | J: 783.946\n",
      "iter 118 | J: 782.256\n",
      "iter 119 | J: 780.600\n",
      "iter 120 | J: 778.977\n",
      "iter 121 | J: 777.386\n",
      "iter 122 | J: 775.828\n",
      "iter 123 | J: 774.300\n",
      "iter 124 | J: 772.803\n",
      "iter 125 | J: 771.336\n",
      "iter 126 | J: 769.899\n",
      "iter 127 | J: 768.490\n",
      "iter 128 | J: 767.110\n",
      "iter 129 | J: 765.757\n",
      "iter 130 | J: 764.431\n",
      "iter 131 | J: 763.132\n",
      "iter 132 | J: 761.859\n",
      "iter 133 | J: 760.611\n",
      "iter 134 | J: 759.388\n",
      "iter 135 | J: 758.190\n",
      "iter 136 | J: 757.015\n",
      "iter 137 | J: 755.865\n",
      "iter 138 | J: 754.737\n",
      "iter 139 | J: 753.632\n",
      "iter 140 | J: 752.548\n",
      "iter 141 | J: 751.487\n",
      "iter 142 | J: 750.447\n",
      "iter 143 | J: 749.427\n",
      "iter 144 | J: 748.428\n",
      "iter 145 | J: 747.449\n",
      "iter 146 | J: 746.490\n",
      "iter 147 | J: 745.550\n",
      "iter 148 | J: 744.628\n",
      "iter 149 | J: 743.725\n",
      "iter 150 | J: 742.840\n",
      "iter 151 | J: 741.973\n",
      "iter 152 | J: 741.123\n",
      "iter 153 | J: 740.290\n",
      "iter 154 | J: 739.474\n",
      "iter 155 | J: 738.674\n",
      "iter 156 | J: 737.890\n",
      "iter 157 | J: 737.121\n",
      "iter 158 | J: 736.368\n",
      "iter 159 | J: 735.630\n",
      "iter 160 | J: 734.907\n",
      "iter 161 | J: 734.198\n",
      "iter 162 | J: 733.504\n",
      "iter 163 | J: 732.823\n",
      "iter 164 | J: 732.156\n",
      "iter 165 | J: 731.502\n",
      "iter 166 | J: 730.861\n",
      "iter 167 | J: 730.234\n",
      "iter 168 | J: 729.618\n",
      "iter 169 | J: 729.015\n",
      "iter 170 | J: 728.424\n",
      "iter 171 | J: 727.845\n",
      "iter 172 | J: 727.277\n",
      "iter 173 | J: 726.720\n",
      "iter 174 | J: 726.175\n",
      "iter 175 | J: 725.641\n",
      "iter 176 | J: 725.117\n",
      "iter 177 | J: 724.604\n",
      "iter 178 | J: 724.101\n",
      "iter 179 | J: 723.608\n",
      "iter 180 | J: 723.124\n",
      "iter 181 | J: 722.651\n",
      "iter 182 | J: 722.187\n",
      "iter 183 | J: 721.732\n",
      "iter 184 | J: 721.286\n",
      "iter 185 | J: 720.849\n",
      "iter 186 | J: 720.421\n",
      "iter 187 | J: 720.002\n",
      "iter 188 | J: 719.590\n",
      "iter 189 | J: 719.187\n",
      "iter 190 | J: 718.792\n",
      "iter 191 | J: 718.405\n",
      "iter 192 | J: 718.026\n",
      "iter 193 | J: 717.654\n",
      "iter 194 | J: 717.289\n",
      "iter 195 | J: 716.932\n",
      "iter 196 | J: 716.582\n",
      "iter 197 | J: 716.239\n",
      "iter 198 | J: 715.903\n",
      "iter 199 | J: 715.573\n",
      "iter 200 | J: 715.250\n",
      "iter 201 | J: 714.933\n",
      "iter 202 | J: 714.623\n",
      "iter 203 | J: 714.319\n",
      "iter 204 | J: 714.021\n",
      "iter 205 | J: 713.729\n",
      "iter 206 | J: 713.443\n",
      "iter 207 | J: 713.162\n",
      "iter 208 | J: 712.887\n",
      "iter 209 | J: 712.618\n",
      "iter 210 | J: 712.353\n",
      "iter 211 | J: 712.095\n",
      "iter 212 | J: 711.841\n",
      "iter 213 | J: 711.592\n",
      "iter 214 | J: 711.348\n",
      "iter 215 | J: 711.109\n",
      "iter 216 | J: 710.875\n",
      "iter 217 | J: 710.646\n",
      "iter 218 | J: 710.421\n",
      "iter 219 | J: 710.200\n",
      "iter 220 | J: 709.984\n",
      "iter 221 | J: 709.773\n",
      "iter 222 | J: 709.565\n",
      "iter 223 | J: 709.362\n",
      "iter 224 | J: 709.162\n",
      "iter 225 | J: 708.967\n",
      "iter 226 | J: 708.775\n",
      "iter 227 | J: 708.588\n",
      "iter 228 | J: 708.404\n",
      "iter 229 | J: 708.223\n",
      "iter 230 | J: 708.047\n",
      "iter 231 | J: 707.873\n",
      "iter 232 | J: 707.704\n",
      "iter 233 | J: 707.537\n",
      "iter 234 | J: 707.374\n",
      "iter 235 | J: 707.214\n",
      "iter 236 | J: 707.058\n",
      "iter 237 | J: 706.904\n",
      "iter 238 | J: 706.753\n",
      "iter 239 | J: 706.606\n",
      "iter 240 | J: 706.461\n",
      "iter 241 | J: 706.320\n",
      "iter 242 | J: 706.181\n",
      "iter 243 | J: 706.044\n",
      "iter 244 | J: 705.911\n",
      "iter 245 | J: 705.780\n",
      "iter 246 | J: 705.652\n",
      "iter 247 | J: 705.526\n",
      "iter 248 | J: 705.403\n",
      "iter 249 | J: 705.282\n",
      "iter 250 | J: 705.164\n",
      "iter 251 | J: 705.048\n",
      "iter 252 | J: 704.934\n",
      "iter 253 | J: 704.823\n",
      "iter 254 | J: 704.714\n",
      "iter 255 | J: 704.607\n",
      "iter 256 | J: 704.502\n",
      "iter 257 | J: 704.399\n",
      "iter 258 | J: 704.298\n",
      "iter 259 | J: 704.199\n",
      "iter 260 | J: 704.103\n",
      "iter 261 | J: 704.008\n",
      "iter 262 | J: 703.915\n",
      "iter 263 | J: 703.823\n",
      "iter 264 | J: 703.734\n",
      "iter 265 | J: 703.646\n",
      "iter 266 | J: 703.561\n",
      "iter 267 | J: 703.476\n",
      "iter 268 | J: 703.394\n",
      "iter 269 | J: 703.313\n",
      "iter 270 | J: 703.234\n",
      "iter 271 | J: 703.156\n",
      "iter 272 | J: 703.080\n",
      "iter 273 | J: 703.005\n",
      "iter 274 | J: 702.932\n",
      "iter 275 | J: 702.860\n",
      "iter 276 | J: 702.790\n",
      "iter 277 | J: 702.721\n",
      "iter 278 | J: 702.654\n",
      "iter 279 | J: 702.588\n",
      "iter 280 | J: 702.523\n",
      "iter 281 | J: 702.459\n",
      "iter 282 | J: 702.397\n",
      "iter 283 | J: 702.336\n",
      "iter 284 | J: 702.276\n",
      "iter 285 | J: 702.217\n",
      "iter 286 | J: 702.159\n",
      "iter 287 | J: 702.103\n",
      "iter 288 | J: 702.048\n",
      "iter 289 | J: 701.994\n",
      "iter 290 | J: 701.940\n",
      "iter 291 | J: 701.888\n",
      "iter 292 | J: 701.837\n",
      "iter 293 | J: 701.787\n",
      "iter 294 | J: 701.738\n",
      "iter 295 | J: 701.690\n",
      "iter 296 | J: 701.643\n",
      "iter 297 | J: 701.597\n",
      "iter 298 | J: 701.552\n",
      "iter 299 | J: 701.507\n",
      "iter 300 | J: 701.464\n",
      "iter 301 | J: 701.421\n",
      "iter 302 | J: 701.379\n",
      "iter 303 | J: 701.338\n",
      "iter 304 | J: 701.298\n",
      "iter 305 | J: 701.259\n",
      "iter 306 | J: 701.220\n",
      "iter 307 | J: 701.182\n",
      "iter 308 | J: 701.145\n",
      "iter 309 | J: 701.109\n",
      "iter 310 | J: 701.073\n",
      "iter 311 | J: 701.038\n",
      "iter 312 | J: 701.004\n",
      "iter 313 | J: 700.971\n",
      "iter 314 | J: 700.938\n",
      "iter 315 | J: 700.905\n",
      "iter 316 | J: 700.874\n",
      "iter 317 | J: 700.843\n",
      "iter 318 | J: 700.812\n",
      "iter 319 | J: 700.783\n",
      "iter 320 | J: 700.753\n",
      "iter 321 | J: 700.725\n",
      "iter 322 | J: 700.697\n",
      "iter 323 | J: 700.669\n",
      "iter 324 | J: 700.642\n",
      "iter 325 | J: 700.616\n",
      "iter 326 | J: 700.590\n",
      "iter 327 | J: 700.565\n",
      "iter 328 | J: 700.540\n",
      "iter 329 | J: 700.515\n",
      "iter 330 | J: 700.492\n",
      "iter 331 | J: 700.468\n",
      "iter 332 | J: 700.445\n",
      "iter 333 | J: 700.423\n",
      "iter 334 | J: 700.401\n",
      "iter 335 | J: 700.379\n",
      "iter 336 | J: 700.358\n",
      "iter 337 | J: 700.337\n",
      "iter 338 | J: 700.317\n",
      "iter 339 | J: 700.297\n",
      "iter 340 | J: 700.277\n",
      "iter 341 | J: 700.258\n",
      "iter 342 | J: 700.239\n",
      "iter 343 | J: 700.221\n",
      "iter 344 | J: 700.202\n",
      "iter 345 | J: 700.185\n",
      "iter 346 | J: 700.167\n",
      "iter 347 | J: 700.150\n",
      "iter 348 | J: 700.134\n",
      "iter 349 | J: 700.117\n",
      "iter 350 | J: 700.101\n",
      "iter 351 | J: 700.085\n",
      "iter 352 | J: 700.070\n",
      "iter 353 | J: 700.055\n",
      "iter 354 | J: 700.040\n",
      "iter 355 | J: 700.026\n",
      "iter 356 | J: 700.011\n",
      "iter 357 | J: 699.997\n",
      "iter 358 | J: 699.984\n",
      "iter 359 | J: 699.970\n",
      "iter 360 | J: 699.957\n",
      "iter 361 | J: 699.944\n",
      "iter 362 | J: 699.932\n",
      "iter 363 | J: 699.919\n",
      "iter 364 | J: 699.907\n",
      "iter 365 | J: 699.895\n",
      "iter 366 | J: 699.883\n",
      "iter 367 | J: 699.872\n",
      "iter 368 | J: 699.861\n",
      "iter 369 | J: 699.850\n",
      "iter 370 | J: 699.839\n",
      "iter 371 | J: 699.828\n",
      "iter 372 | J: 699.818\n",
      "iter 373 | J: 699.808\n",
      "iter 374 | J: 699.798\n",
      "iter 375 | J: 699.788\n",
      "iter 376 | J: 699.779\n",
      "iter 377 | J: 699.769\n",
      "iter 378 | J: 699.760\n",
      "iter 379 | J: 699.751\n",
      "iter 380 | J: 699.742\n",
      "iter 381 | J: 699.734\n",
      "iter 382 | J: 699.725\n",
      "iter 383 | J: 699.717\n",
      "iter 384 | J: 699.709\n",
      "iter 385 | J: 699.701\n",
      "iter 386 | J: 699.693\n",
      "iter 387 | J: 699.685\n",
      "iter 388 | J: 699.677\n",
      "iter 389 | J: 699.670\n",
      "iter 390 | J: 699.663\n",
      "iter 391 | J: 699.656\n",
      "iter 392 | J: 699.649\n",
      "iter 393 | J: 699.642\n",
      "iter 394 | J: 699.635\n",
      "iter 395 | J: 699.629\n",
      "iter 396 | J: 699.622\n",
      "iter 397 | J: 699.616\n",
      "iter 398 | J: 699.610\n",
      "iter 399 | J: 699.604\n",
      "iter 400 | J: 699.598\n",
      "iter 401 | J: 699.592\n",
      "iter 402 | J: 699.586\n",
      "iter 403 | J: 699.581\n",
      "iter 404 | J: 699.575\n",
      "iter 405 | J: 699.570\n",
      "iter 406 | J: 699.564\n",
      "iter 407 | J: 699.559\n",
      "iter 408 | J: 699.554\n",
      "iter 409 | J: 699.549\n",
      "iter 410 | J: 699.544\n",
      "iter 411 | J: 699.540\n",
      "iter 412 | J: 699.535\n",
      "iter 413 | J: 699.530\n",
      "iter 414 | J: 699.526\n",
      "iter 415 | J: 699.521\n",
      "iter 416 | J: 699.517\n",
      "iter 417 | J: 699.513\n",
      "iter 418 | J: 699.509\n",
      "iter 419 | J: 699.505\n",
      "iter 420 | J: 699.501\n",
      "iter 421 | J: 699.497\n",
      "iter 422 | J: 699.493\n",
      "iter 423 | J: 699.489\n",
      "iter 424 | J: 699.485\n",
      "iter 425 | J: 699.482\n",
      "iter 426 | J: 699.478\n",
      "iter 427 | J: 699.475\n",
      "iter 428 | J: 699.471\n",
      "iter 429 | J: 699.468\n",
      "iter 430 | J: 699.465\n",
      "iter 431 | J: 699.462\n",
      "iter 432 | J: 699.458\n",
      "iter 433 | J: 699.455\n",
      "iter 434 | J: 699.452\n",
      "iter 435 | J: 699.449\n",
      "iter 436 | J: 699.446\n",
      "iter 437 | J: 699.444\n",
      "iter 438 | J: 699.441\n",
      "iter 439 | J: 699.438\n",
      "iter 440 | J: 699.435\n",
      "iter 441 | J: 699.433\n",
      "iter 442 | J: 699.430\n",
      "iter 443 | J: 699.428\n",
      "iter 444 | J: 699.425\n",
      "iter 445 | J: 699.423\n",
      "iter 446 | J: 699.420\n",
      "iter 447 | J: 699.418\n",
      "iter 448 | J: 699.416\n",
      "iter 449 | J: 699.413\n",
      "iter 450 | J: 699.411\n",
      "iter 451 | J: 699.409\n",
      "iter 452 | J: 699.407\n",
      "iter 453 | J: 699.405\n",
      "iter 454 | J: 699.403\n",
      "iter 455 | J: 699.401\n",
      "iter 456 | J: 699.399\n",
      "iter 457 | J: 699.397\n",
      "iter 458 | J: 699.395\n",
      "iter 459 | J: 699.393\n",
      "iter 460 | J: 699.391\n",
      "iter 461 | J: 699.390\n",
      "iter 462 | J: 699.388\n",
      "iter 463 | J: 699.386\n",
      "iter 464 | J: 699.384\n",
      "iter 465 | J: 699.383\n",
      "iter 466 | J: 699.381\n",
      "iter 467 | J: 699.380\n",
      "iter 468 | J: 699.378\n",
      "iter 469 | J: 699.377\n",
      "iter 470 | J: 699.375\n",
      "iter 471 | J: 699.374\n",
      "iter 472 | J: 699.372\n",
      "iter 473 | J: 699.371\n",
      "iter 474 | J: 699.369\n",
      "iter 475 | J: 699.368\n",
      "iter 476 | J: 699.367\n",
      "iter 477 | J: 699.365\n",
      "iter 478 | J: 699.364\n",
      "iter 479 | J: 699.363\n",
      "iter 480 | J: 699.362\n",
      "iter 481 | J: 699.361\n",
      "iter 482 | J: 699.359\n",
      "iter 483 | J: 699.358\n",
      "iter 484 | J: 699.357\n",
      "iter 485 | J: 699.356\n",
      "iter 486 | J: 699.355\n",
      "iter 487 | J: 699.354\n",
      "iter 488 | J: 699.353\n",
      "iter 489 | J: 699.352\n",
      "iter 490 | J: 699.351\n",
      "iter 491 | J: 699.350\n",
      "iter 492 | J: 699.349\n",
      "iter 493 | J: 699.348\n",
      "iter 494 | J: 699.347\n",
      "iter 495 | J: 699.346\n",
      "iter 496 | J: 699.345\n",
      "iter 497 | J: 699.344\n",
      "iter 498 | J: 699.343\n",
      "iter 499 | J: 699.343\n",
      "iter 500 | J: 699.342\n",
      "iter 501 | J: 699.341\n",
      "iter 502 | J: 699.340\n",
      "iter 503 | J: 699.339\n",
      "iter 504 | J: 699.339\n",
      "iter 505 | J: 699.338\n",
      "iter 506 | J: 699.337\n",
      "iter 507 | J: 699.336\n",
      "iter 508 | J: 699.336\n",
      "iter 509 | J: 699.335\n",
      "iter 510 | J: 699.334\n",
      "iter 511 | J: 699.334\n",
      "iter 512 | J: 699.333\n",
      "iter 513 | J: 699.332\n",
      "iter 514 | J: 699.332\n",
      "iter 515 | J: 699.331\n",
      "iter 516 | J: 699.331\n",
      "iter 517 | J: 699.330\n",
      "iter 518 | J: 699.329\n",
      "iter 519 | J: 699.329\n",
      "iter 520 | J: 699.328\n",
      "iter 521 | J: 699.328\n",
      "iter 522 | J: 699.327\n",
      "iter 523 | J: 699.327\n",
      "iter 524 | J: 699.326\n",
      "iter 525 | J: 699.326\n",
      "iter 526 | J: 699.325\n",
      "iter 527 | J: 699.325\n",
      "iter 528 | J: 699.324\n",
      "iter 529 | J: 699.324\n",
      "iter 530 | J: 699.323\n",
      "iter 531 | J: 699.323\n",
      "iter 532 | J: 699.322\n",
      "iter 533 | J: 699.322\n",
      "iter 534 | J: 699.322\n",
      "iter 535 | J: 699.321\n",
      "iter 536 | J: 699.321\n",
      "iter 537 | J: 699.320\n",
      "iter 538 | J: 699.320\n",
      "iter 539 | J: 699.320\n",
      "iter 540 | J: 699.319\n",
      "iter 541 | J: 699.319\n",
      "iter 542 | J: 699.318\n",
      "iter 543 | J: 699.318\n",
      "iter 544 | J: 699.318\n",
      "iter 545 | J: 699.317\n",
      "iter 546 | J: 699.317\n",
      "iter 547 | J: 699.317\n",
      "iter 548 | J: 699.316\n",
      "iter 549 | J: 699.316\n",
      "iter 550 | J: 699.316\n",
      "iter 551 | J: 699.316\n",
      "iter 552 | J: 699.315\n",
      "iter 553 | J: 699.315\n",
      "iter 554 | J: 699.315\n",
      "iter 555 | J: 699.314\n",
      "iter 556 | J: 699.314\n",
      "iter 557 | J: 699.314\n",
      "iter 558 | J: 699.314\n",
      "iter 559 | J: 699.313\n",
      "iter 560 | J: 699.313\n",
      "iter 561 | J: 699.313\n",
      "iter 562 | J: 699.313\n",
      "iter 563 | J: 699.312\n",
      "iter 564 | J: 699.312\n",
      "iter 565 | J: 699.312\n",
      "iter 566 | J: 699.312\n",
      "iter 567 | J: 699.311\n",
      "iter 568 | J: 699.311\n",
      "iter 569 | J: 699.311\n",
      "iter 570 | J: 699.311\n",
      "iter 571 | J: 699.311\n",
      "iter 572 | J: 699.310\n",
      "iter 573 | J: 699.310\n",
      "iter 574 | J: 699.310\n",
      "iter 575 | J: 699.310\n",
      "iter 576 | J: 699.310\n",
      "iter 577 | J: 699.309\n",
      "iter 578 | J: 699.309\n",
      "iter 579 | J: 699.309\n",
      "iter 580 | J: 699.309\n",
      "iter 581 | J: 699.309\n",
      "iter 582 | J: 699.309\n",
      "iter 583 | J: 699.308\n",
      "iter 584 | J: 699.308\n",
      "iter 585 | J: 699.308\n",
      "iter 586 | J: 699.308\n",
      "iter 587 | J: 699.308\n",
      "iter 588 | J: 699.308\n",
      "iter 589 | J: 699.308\n",
      "iter 590 | J: 699.307\n",
      "iter 591 | J: 699.307\n",
      "iter 592 | J: 699.307\n",
      "iter 593 | J: 699.307\n",
      "iter 594 | J: 699.307\n",
      "iter 595 | J: 699.307\n",
      "iter 596 | J: 699.307\n",
      "iter 597 | J: 699.307\n",
      "iter 598 | J: 699.306\n",
      "iter 599 | J: 699.306\n",
      "iter 600 | J: 699.306\n",
      "iter 601 | J: 699.306\n",
      "iter 602 | J: 699.306\n",
      "iter 603 | J: 699.306\n",
      "iter 604 | J: 699.306\n",
      "iter 605 | J: 699.306\n",
      "iter 606 | J: 699.306\n",
      "iter 607 | J: 699.305\n",
      "iter 608 | J: 699.305\n",
      "iter 609 | J: 699.305\n",
      "iter 610 | J: 699.305\n",
      "iter 611 | J: 699.305\n",
      "iter 612 | J: 699.305\n",
      "iter 613 | J: 699.305\n",
      "iter 614 | J: 699.305\n",
      "iter 615 | J: 699.305\n",
      "iter 616 | J: 699.305\n",
      "iter 617 | J: 699.305\n",
      "iter 618 | J: 699.304\n",
      "iter 619 | J: 699.304\n",
      "iter 620 | J: 699.304\n",
      "iter 621 | J: 699.304\n",
      "iter 622 | J: 699.304\n",
      "iter 623 | J: 699.304\n",
      "iter 624 | J: 699.304\n",
      "iter 625 | J: 699.304\n",
      "iter 626 | J: 699.304\n",
      "iter 627 | J: 699.304\n",
      "iter 628 | J: 699.304\n",
      "iter 629 | J: 699.304\n",
      "iter 630 | J: 699.304\n",
      "iter 631 | J: 699.304\n",
      "iter 632 | J: 699.303\n",
      "iter 633 | J: 699.303\n",
      "iter 634 | J: 699.303\n",
      "iter 635 | J: 699.303\n",
      "iter 636 | J: 699.303\n",
      "iter 637 | J: 699.303\n",
      "iter 638 | J: 699.303\n",
      "iter 639 | J: 699.303\n",
      "iter 640 | J: 699.303\n",
      "iter 641 | J: 699.303\n",
      "iter 642 | J: 699.303\n",
      "iter 643 | J: 699.303\n",
      "iter 644 | J: 699.303\n",
      "iter 645 | J: 699.303\n",
      "iter 646 | J: 699.303\n",
      "iter 647 | J: 699.303\n",
      "iter 648 | J: 699.303\n",
      "iter 649 | J: 699.303\n",
      "iter 650 | J: 699.303\n",
      "iter 651 | J: 699.303\n",
      "iter 652 | J: 699.302\n",
      "iter 653 | J: 699.302\n",
      "iter 654 | J: 699.302\n",
      "iter 655 | J: 699.302\n",
      "iter 656 | J: 699.302\n",
      "iter 657 | J: 699.302\n",
      "iter 658 | J: 699.302\n",
      "iter 659 | J: 699.302\n",
      "iter 660 | J: 699.302\n",
      "iter 661 | J: 699.302\n",
      "iter 662 | J: 699.302\n",
      "iter 663 | J: 699.302\n",
      "iter 664 | J: 699.302\n",
      "iter 665 | J: 699.302\n",
      "iter 666 | J: 699.302\n",
      "iter 667 | J: 699.302\n",
      "iter 668 | J: 699.302\n",
      "iter 669 | J: 699.302\n",
      "iter 670 | J: 699.302\n",
      "iter 671 | J: 699.302\n",
      "iter 672 | J: 699.302\n",
      "iter 673 | J: 699.302\n",
      "iter 674 | J: 699.302\n",
      "iter 675 | J: 699.302\n",
      "iter 676 | J: 699.302\n",
      "iter 677 | J: 699.302\n",
      "iter 678 | J: 699.302\n",
      "iter 679 | J: 699.302\n",
      "iter 680 | J: 699.302\n",
      "iter 681 | J: 699.302\n",
      "iter 682 | J: 699.302\n",
      "iter 683 | J: 699.302\n",
      "iter 684 | J: 699.301\n",
      "iter 685 | J: 699.301\n",
      "iter 686 | J: 699.301\n",
      "iter 687 | J: 699.301\n",
      "iter 688 | J: 699.301\n",
      "iter 689 | J: 699.301\n",
      "iter 690 | J: 699.301\n",
      "iter 691 | J: 699.301\n",
      "iter 692 | J: 699.301\n",
      "iter 693 | J: 699.301\n",
      "iter 694 | J: 699.301\n",
      "iter 695 | J: 699.301\n",
      "iter 696 | J: 699.301\n",
      "iter 697 | J: 699.301\n",
      "iter 698 | J: 699.301\n",
      "iter 699 | J: 699.301\n",
      "iter 700 | J: 699.301\n",
      "iter 701 | J: 699.301\n",
      "iter 702 | J: 699.301\n",
      "iter 703 | J: 699.301\n",
      "iter 704 | J: 699.301\n",
      "iter 705 | J: 699.301\n",
      "iter 706 | J: 699.301\n",
      "iter 707 | J: 699.301\n",
      "iter 708 | J: 699.301\n",
      "iter 709 | J: 699.301\n",
      "iter 710 | J: 699.301\n",
      "iter 711 | J: 699.301\n",
      "iter 712 | J: 699.301\n",
      "iter 713 | J: 699.301\n",
      "iter 714 | J: 699.301\n",
      "iter 715 | J: 699.301\n",
      "iter 716 | J: 699.301\n",
      "iter 717 | J: 699.301\n",
      "iter 718 | J: 699.301\n",
      "iter 719 | J: 699.301\n",
      "iter 720 | J: 699.301\n",
      "iter 721 | J: 699.301\n",
      "iter 722 | J: 699.301\n",
      "iter 723 | J: 699.301\n",
      "iter 724 | J: 699.301\n",
      "iter 725 | J: 699.301\n",
      "iter 726 | J: 699.301\n",
      "iter 727 | J: 699.301\n",
      "iter 728 | J: 699.301\n",
      "iter 729 | J: 699.301\n",
      "iter 730 | J: 699.301\n",
      "iter 731 | J: 699.301\n",
      "iter 732 | J: 699.301\n",
      "iter 733 | J: 699.301\n",
      "iter 734 | J: 699.301\n",
      "iter 735 | J: 699.301\n",
      "iter 736 | J: 699.301\n",
      "iter 737 | J: 699.301\n",
      "iter 738 | J: 699.301\n",
      "iter 739 | J: 699.301\n",
      "iter 740 | J: 699.301\n",
      "iter 741 | J: 699.301\n",
      "iter 742 | J: 699.301\n",
      "iter 743 | J: 699.301\n",
      "iter 744 | J: 699.301\n",
      "iter 745 | J: 699.301\n",
      "iter 746 | J: 699.301\n",
      "iter 747 | J: 699.301\n",
      "iter 748 | J: 699.301\n",
      "iter 749 | J: 699.301\n",
      "iter 750 | J: 699.301\n",
      "iter 751 | J: 699.301\n",
      "iter 752 | J: 699.301\n",
      "iter 753 | J: 699.301\n",
      "iter 754 | J: 699.301\n",
      "iter 755 | J: 699.301\n",
      "iter 756 | J: 699.301\n",
      "iter 757 | J: 699.301\n",
      "iter 758 | J: 699.301\n",
      "iter 759 | J: 699.301\n",
      "iter 760 | J: 699.301\n",
      "iter 761 | J: 699.301\n",
      "iter 762 | J: 699.301\n",
      "iter 763 | J: 699.301\n",
      "iter 764 | J: 699.301\n",
      "iter 765 | J: 699.301\n",
      "iter 766 | J: 699.301\n",
      "iter 767 | J: 699.301\n",
      "iter 768 | J: 699.301\n",
      "iter 769 | J: 699.301\n",
      "iter 770 | J: 699.301\n",
      "iter 771 | J: 699.301\n",
      "iter 772 | J: 699.301\n",
      "iter 773 | J: 699.301\n",
      "iter 774 | J: 699.301\n",
      "iter 775 | J: 699.301\n",
      "iter 776 | J: 699.301\n",
      "iter 777 | J: 699.301\n",
      "iter 778 | J: 699.301\n",
      "iter 779 | J: 699.301\n",
      "iter 780 | J: 699.301\n",
      "iter 781 | J: 699.301\n",
      "iter 782 | J: 699.301\n",
      "iter 783 | J: 699.301\n",
      "iter 784 | J: 699.301\n",
      "iter 785 | J: 699.301\n",
      "iter 786 | J: 699.301\n",
      "iter 787 | J: 699.301\n",
      "iter 788 | J: 699.301\n",
      "iter 789 | J: 699.300\n",
      "iter 790 | J: 699.300\n",
      "iter 791 | J: 699.300\n",
      "iter 792 | J: 699.300\n",
      "iter 793 | J: 699.300\n",
      "iter 794 | J: 699.300\n",
      "iter 795 | J: 699.300\n",
      "iter 796 | J: 699.300\n",
      "iter 797 | J: 699.300\n",
      "iter 798 | J: 699.300\n",
      "iter 799 | J: 699.300\n",
      "iter 800 | J: 699.300\n",
      "iter 801 | J: 699.300\n",
      "iter 802 | J: 699.300\n",
      "iter 803 | J: 699.300\n",
      "iter 804 | J: 699.300\n",
      "iter 805 | J: 699.300\n",
      "iter 806 | J: 699.300\n",
      "iter 807 | J: 699.300\n",
      "iter 808 | J: 699.300\n",
      "iter 809 | J: 699.300\n",
      "iter 810 | J: 699.300\n",
      "iter 811 | J: 699.300\n",
      "iter 812 | J: 699.300\n",
      "iter 813 | J: 699.300\n",
      "iter 814 | J: 699.300\n",
      "iter 815 | J: 699.300\n",
      "iter 816 | J: 699.300\n",
      "iter 817 | J: 699.300\n",
      "iter 818 | J: 699.300\n",
      "iter 819 | J: 699.300\n",
      "iter 820 | J: 699.300\n",
      "iter 821 | J: 699.300\n",
      "iter 822 | J: 699.300\n",
      "iter 823 | J: 699.300\n",
      "iter 824 | J: 699.300\n",
      "iter 825 | J: 699.300\n",
      "iter 826 | J: 699.300\n",
      "iter 827 | J: 699.300\n",
      "iter 828 | J: 699.300\n",
      "iter 829 | J: 699.300\n",
      "iter 830 | J: 699.300\n",
      "iter 831 | J: 699.300\n",
      "iter 832 | J: 699.300\n",
      "iter 833 | J: 699.300\n",
      "iter 834 | J: 699.300\n",
      "iter 835 | J: 699.300\n",
      "iter 836 | J: 699.300\n",
      "iter 837 | J: 699.300\n",
      "iter 838 | J: 699.300\n",
      "iter 839 | J: 699.300\n",
      "iter 840 | J: 699.300\n",
      "iter 841 | J: 699.300\n",
      "iter 842 | J: 699.300\n",
      "iter 843 | J: 699.300\n",
      "iter 844 | J: 699.300\n",
      "iter 845 | J: 699.300\n",
      "iter 846 | J: 699.300\n",
      "iter 847 | J: 699.300\n",
      "iter 848 | J: 699.300\n",
      "iter 849 | J: 699.300\n",
      "iter 850 | J: 699.300\n",
      "iter 851 | J: 699.300\n",
      "iter 852 | J: 699.300\n",
      "iter 853 | J: 699.300\n",
      "iter 854 | J: 699.300\n",
      "iter 855 | J: 699.300\n",
      "iter 856 | J: 699.300\n",
      "iter 857 | J: 699.300\n",
      "iter 858 | J: 699.300\n",
      "iter 859 | J: 699.300\n",
      "iter 860 | J: 699.300\n",
      "iter 861 | J: 699.300\n",
      "iter 862 | J: 699.300\n",
      "iter 863 | J: 699.300\n",
      "iter 864 | J: 699.300\n",
      "iter 865 | J: 699.300\n",
      "iter 866 | J: 699.300\n",
      "iter 867 | J: 699.300\n",
      "iter 868 | J: 699.300\n",
      "iter 869 | J: 699.300\n",
      "iter 870 | J: 699.300\n",
      "iter 871 | J: 699.300\n",
      "iter 872 | J: 699.300\n",
      "iter 873 | J: 699.300\n",
      "iter 874 | J: 699.300\n",
      "iter 875 | J: 699.300\n",
      "iter 876 | J: 699.300\n",
      "iter 877 | J: 699.300\n",
      "iter 878 | J: 699.300\n",
      "iter 879 | J: 699.300\n",
      "iter 880 | J: 699.300\n",
      "iter 881 | J: 699.300\n",
      "iter 882 | J: 699.300\n",
      "iter 883 | J: 699.300\n",
      "iter 884 | J: 699.300\n",
      "iter 885 | J: 699.300\n",
      "iter 886 | J: 699.300\n",
      "iter 887 | J: 699.300\n",
      "iter 888 | J: 699.300\n",
      "iter 889 | J: 699.300\n",
      "iter 890 | J: 699.300\n",
      "iter 891 | J: 699.300\n",
      "iter 892 | J: 699.300\n",
      "iter 893 | J: 699.300\n",
      "iter 894 | J: 699.300\n",
      "iter 895 | J: 699.300\n",
      "iter 896 | J: 699.300\n",
      "iter 897 | J: 699.300\n",
      "iter 898 | J: 699.300\n",
      "iter 899 | J: 699.300\n",
      "iter 900 | J: 699.300\n",
      "iter 901 | J: 699.300\n",
      "iter 902 | J: 699.300\n",
      "iter 903 | J: 699.300\n",
      "iter 904 | J: 699.300\n",
      "iter 905 | J: 699.300\n",
      "iter 906 | J: 699.300\n",
      "iter 907 | J: 699.300\n",
      "iter 908 | J: 699.300\n",
      "iter 909 | J: 699.300\n",
      "iter 910 | J: 699.300\n",
      "iter 911 | J: 699.300\n",
      "iter 912 | J: 699.300\n",
      "iter 913 | J: 699.300\n",
      "iter 914 | J: 699.300\n",
      "iter 915 | J: 699.300\n",
      "iter 916 | J: 699.300\n",
      "iter 917 | J: 699.300\n",
      "iter 918 | J: 699.300\n",
      "iter 919 | J: 699.300\n",
      "iter 920 | J: 699.300\n",
      "iter 921 | J: 699.300\n",
      "iter 922 | J: 699.300\n",
      "iter 923 | J: 699.300\n",
      "iter 924 | J: 699.300\n",
      "iter 925 | J: 699.300\n",
      "iter 926 | J: 699.300\n",
      "iter 927 | J: 699.300\n",
      "iter 928 | J: 699.300\n",
      "iter 929 | J: 699.300\n",
      "iter 930 | J: 699.300\n",
      "iter 931 | J: 699.300\n",
      "iter 932 | J: 699.300\n",
      "iter 933 | J: 699.300\n",
      "iter 934 | J: 699.300\n",
      "iter 935 | J: 699.300\n",
      "iter 936 | J: 699.300\n",
      "iter 937 | J: 699.300\n",
      "iter 938 | J: 699.300\n",
      "iter 939 | J: 699.300\n",
      "iter 940 | J: 699.300\n",
      "iter 941 | J: 699.300\n",
      "iter 942 | J: 699.300\n",
      "iter 943 | J: 699.300\n",
      "iter 944 | J: 699.300\n",
      "iter 945 | J: 699.300\n",
      "iter 946 | J: 699.300\n",
      "iter 947 | J: 699.300\n",
      "iter 948 | J: 699.300\n",
      "iter 949 | J: 699.300\n",
      "iter 950 | J: 699.300\n",
      "iter 951 | J: 699.300\n",
      "iter 952 | J: 699.300\n",
      "iter 953 | J: 699.300\n",
      "iter 954 | J: 699.300\n",
      "iter 955 | J: 699.300\n",
      "iter 956 | J: 699.300\n",
      "iter 957 | J: 699.300\n",
      "iter 958 | J: 699.300\n",
      "iter 959 | J: 699.300\n",
      "iter 960 | J: 699.300\n",
      "iter 961 | J: 699.300\n",
      "iter 962 | J: 699.300\n",
      "iter 963 | J: 699.300\n",
      "iter 964 | J: 699.300\n",
      "iter 965 | J: 699.300\n",
      "iter 966 | J: 699.300\n",
      "iter 967 | J: 699.300\n",
      "iter 968 | J: 699.300\n",
      "iter 969 | J: 699.300\n",
      "iter 970 | J: 699.300\n",
      "iter 971 | J: 699.300\n",
      "iter 972 | J: 699.300\n",
      "iter 973 | J: 699.300\n",
      "iter 974 | J: 699.300\n",
      "iter 975 | J: 699.300\n",
      "iter 976 | J: 699.300\n",
      "iter 977 | J: 699.300\n",
      "iter 978 | J: 699.300\n",
      "iter 979 | J: 699.300\n",
      "iter 980 | J: 699.300\n",
      "iter 981 | J: 699.300\n",
      "iter 982 | J: 699.300\n",
      "iter 983 | J: 699.300\n",
      "iter 984 | J: 699.300\n",
      "iter 985 | J: 699.300\n",
      "iter 986 | J: 699.300\n",
      "iter 987 | J: 699.300\n",
      "iter 988 | J: 699.300\n",
      "iter 989 | J: 699.300\n",
      "iter 990 | J: 699.300\n",
      "iter 991 | J: 699.300\n",
      "iter 992 | J: 699.300\n",
      "iter 993 | J: 699.300\n",
      "iter 994 | J: 699.300\n",
      "iter 995 | J: 699.300\n",
      "iter 996 | J: 699.300\n",
      "iter 997 | J: 699.300\n",
      "iter 998 | J: 699.300\n",
      "iter 999 | J: 699.300\n",
      "theta = [-2.84837957297, 43.2023484694]\n"
     ]
    },
    {
     "data": {
      "image/png": "[encoded data removed]",
      "text/plain": [
       "<matplotlib.figure.Figure at 0x7fa8889d6eb8>"
      ]
     },
     "metadata": {},
     "output_type": "display_data"
    },
    {
     "name": "stdout",
     "output_type": "stream",
     "text": [
      "Done!\n"
     ]
    }
   ],
   "source": [
    "# CODE A, NUMPY PYTHON\n",
    "\n",
    "import numpy as np\n",
    "import random\n",
    "from sklearn.datasets.samples_generator import make_regression \n",
    "import pylab\n",
    "from scipy import stats\n",
    "\n",
    "def gradient_descent_2(alpha, x, y, numIterations):\n",
    "    m = x.shape[0] # number of samples\n",
    "    theta = np.ones(2)\n",
    "    x_transpose = x.transpose()\n",
    "    for iter in range(0, numIterations):\n",
    "        hypothesis = np.dot(x, theta)\n",
    "        loss = hypothesis - y\n",
    "        J = np.sum(loss ** 2) / (2 * m)  # cost\n",
    "        print (\"iter %s | J: %.3f\" % (iter, J) )\n",
    "        gradient = np.dot(x_transpose, loss) / m         \n",
    "        theta = theta - alpha * gradient  # update\n",
    "    return theta\n",
    "\n",
    "if __name__ == '__main__':\n",
    "\n",
    "    x, y = make_regression(n_samples=100, n_features=1, n_informative=1, \n",
    "                        random_state=0, noise=35) \n",
    "    m, n = np.shape(x)\n",
    "    x = np.c_[ np.ones(m), x] # insert column\n",
    "    alpha = 0.01 # learning rate\n",
    "    theta = gradient_descent_2(alpha, x, y, 1000)\n",
    "    print('theta = [%s, %s]' %(theta[0], theta[1]))\n",
    "\n",
    "    # plot\n",
    "    for i in range(x.shape[1]):\n",
    "        y_predict = theta[0] + theta[1]*x \n",
    "    pylab.plot(x[:,1],y,'o')\n",
    "    pylab.plot(x,y_predict,'k-')\n",
    "    pylab.show()\n",
    "    print (\"Done!\")"
   ]
  },
  {
   "cell_type": "markdown",
   "metadata": {},
   "source": [
    "### 2. Stochastic Gradient Descent Algorithm (SGD)"
   ]
  },
  {
   "cell_type": "markdown",
   "metadata": {},
   "source": [
    "Typically reaches convergence muhc faster than **batch (or standard)** gradient descent since it updated weight more frequently.\n",
    "\n",
    "En cambio, **batch gradient descent** which computes the gradient using the whole dataset, because the **SGD**, also known as **incremental gradient descent**, tries to find minimums or maximums y iteration from a **single** randomly picked training example, the error is typically noisier than in gradient descent.\n",
    "\n",
    "However, this can also have advantage that ``stochastic gradient descent can escape shallow local minima more easily``.\n",
    "\n",
    "In orden to obtain accurate results with stochastic gradient descent, the data sample should be in a random order, and this is why we want to shuffle the training set for every epoch."
   ]
  },
  {
   "cell_type": "markdown",
   "metadata": {},
   "source": [
    "![Imagen 009](Images/imag009.png?raw=true)"
   ]
  },
  {
   "cell_type": "markdown",
   "metadata": {},
   "source": [
    "The **cost function** to learn the weights for **Adaline (Adaptive Linear Neuron)** is defined by associating with *i*-th observation in the training data set as:"
   ]
  },
  {
   "cell_type": "markdown",
   "metadata": {},
   "source": [
    "> ### $J(w) = \\frac{1}{2}\\sum_{i=1}^{N}(y^{(i)} - \\phi(w^{T}x)^{(i)})^2$"
   ]
  },
  {
   "cell_type": "markdown",
   "metadata": {},
   "source": [
    "where the $\\phi$ is an activation function."
   ]
  },
  {
   "cell_type": "markdown",
   "metadata": {},
   "source": [
    "![Image 10](Images/Imag010.png)"
   ]
  },
  {
   "cell_type": "markdown",
   "metadata": {},
   "source": [
    "The weight change $\\Delta w$ is defined as the negative gradient multiplied by the **learning rate** $\\eta$:"
   ]
  },
  {
   "cell_type": "markdown",
   "metadata": {},
   "source": [
    "> ### $\\Delta w = -\\eta\\nabla J = \\eta \\sum_{i=1}^{N}(y^{(i)} - \\phi(w^{T}x)^{(i)})x^{(i)}$"
   ]
  },
  {
   "cell_type": "markdown",
   "metadata": {},
   "source": [
    "In order to minimize a cost function, in **batch gradient descent,** the gradient is calculated from the whole training set (this is why this approach is also referred to as \"batch\")\n",
    "\n",
    "If we have a huge dataset with millions of data points, running the batch gradient descent can be quite costly since we need to reevaluate the whole training dataset each time we take one step towards the global minimum.\n",
    "\n",
    "So, in **stochastic gradient descent** method, instead of updating the weights based on the sum of the accumulated errors over all samples **x**$^{(i)}$ via the $(\\Delta w)$ defined above, we can use the following update:"
   ]
  },
  {
   "cell_type": "markdown",
   "metadata": {},
   "source": []
  }
 ],
 "metadata": {
  "anaconda-cloud": {},
  "kernelspec": {
   "display_name": "Python [conda root]",
   "language": "python",
   "name": "conda-root-py"
  },
  "language_info": {
   "codemirror_mode": {
    "name": "ipython",
    "version": 3
   },
   "file_extension": ".py",
   "mimetype": "text/x-python",
   "name": "python",
   "nbconvert_exporter": "python",
   "pygments_lexer": "ipython3",
   "version": "3.5.2"
  }
 },
 "nbformat": 4,
 "nbformat_minor": 1
}
